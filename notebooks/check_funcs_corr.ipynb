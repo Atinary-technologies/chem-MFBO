{
 "cells": [
  {
   "cell_type": "markdown",
   "metadata": {},
   "source": [
    "### Checking r2 of synthetic functions"
   ]
  },
  {
   "cell_type": "code",
   "execution_count": 9,
   "metadata": {},
   "outputs": [],
   "source": [
    "import torch\n",
    "from mf_kmc.simulations.implementations.park.park import Park\n",
    "from botorch.test_functions import AugmentedHartmann, AugmentedBranin\n",
    "from sklearn.metrics import r2_score, root_mean_squared_error\n",
    "\n",
    "torch.manual_seed(33);"
   ]
  },
  {
   "cell_type": "code",
   "execution_count": 48,
   "metadata": {},
   "outputs": [],
   "source": [
    "samps_park = torch.rand(size=(100,4))\n",
    "samps_branin = torch.rand(size=(100, 2)) \n",
    "samps_hartmann = torch.rand(size=(100, 6))"
   ]
  },
  {
   "cell_type": "markdown",
   "metadata": {},
   "source": [
    "### Park\n"
   ]
  },
  {
   "cell_type": "code",
   "execution_count": 17,
   "metadata": {},
   "outputs": [
    {
     "name": "stdout",
     "output_type": "stream",
     "text": [
      "fid 0.2-> r2:-0.18424156267148417 mse: 3.458242654800415\n",
      "fid 0.3-> r2:0.19125956140869615 mse: 3.0259616374969482\n",
      "fid 0.37-> r2:0.3933111370645136 mse: 2.723365545272827\n",
      "fid 0.4-> r2:0.46710164703573753 mse: 2.593681812286377\n",
      "fid 0.46-> r2:0.5946507555172562 mse: 2.33431339263916\n",
      "fid 0.5-> r2:0.6664187371820292 mse: 2.1614015102386475\n",
      "fid 0.6-> r2:0.8066593983389008 mse: 1.7291208505630493\n"
     ]
    }
   ],
   "source": [
    "p = Park()\n",
    "\n",
    "fids = [0.2, 0.3, 0.37, 0.4, 0.46, 0.5, 0.6]\n",
    "\n",
    "for l in fids:\n",
    "\n",
    "    s_lf = torch.cat((samps_park, torch.ones(samps_park.size()[0]).unsqueeze(1)*l), dim=1)\n",
    "    s_hf = torch.cat((samps_park, torch.ones(samps_park.size()[0]).unsqueeze(1)*1.0), dim=1)\n",
    "    s = p(s_lf).detach().numpy()\n",
    "    s_true = p(s_hf).detach().numpy() \n",
    "\n",
    "    r2 = r2_score(s, s_true)\n",
    "    mse = root_mean_squared_error(s, s_true)\n",
    "\n",
    "    print(f\"fid {l}-> r2:{r2} mse: {mse}\")"
   ]
  },
  {
   "cell_type": "markdown",
   "metadata": {},
   "source": [
    "### Branin"
   ]
  },
  {
   "cell_type": "code",
   "execution_count": 28,
   "metadata": {},
   "outputs": [],
   "source": [
    "f = AugmentedBranin()\n",
    "\n",
    "bounds = torch.tensor(f._bounds)[:2, :]"
   ]
  },
  {
   "cell_type": "code",
   "execution_count": 31,
   "metadata": {},
   "outputs": [
    {
     "data": {
      "text/plain": [
       "tensor([10., 15.])"
      ]
     },
     "execution_count": 31,
     "metadata": {},
     "output_type": "execute_result"
    }
   ],
   "source": [
    "bounds[:, 1]"
   ]
  },
  {
   "cell_type": "code",
   "execution_count": 65,
   "metadata": {},
   "outputs": [
    {
     "name": "stdout",
     "output_type": "stream",
     "text": [
      "fid -0.29-> r2:0.20694481205919268 mse: 107.81169128417969\n",
      "fid 0.03-> r2:0.40611345513564845 mse: 73.32196807861328\n",
      "fid 0.3-> r2:0.6149813599407541 mse: 48.40953063964844\n",
      "fid 0.54-> r2:0.8055106761867619 mse: 29.3226318359375\n"
     ]
    }
   ],
   "source": [
    "f = AugmentedBranin()\n",
    "\n",
    "samps = samps_branin * (bounds[:, 1] - bounds[:, 0]) + bounds[:, 0]\n",
    "\n",
    "fids = [-0.29, 0.03, 0.3, 0.54]\n",
    "\n",
    "for l in fids:\n",
    "\n",
    "    s_lf = torch.cat((samps, torch.ones(samps.size()[0]).unsqueeze(1)*l), dim=1)\n",
    "    s_hf = torch.cat((samps, torch.ones(samps.size()[0]).unsqueeze(1)*1.0), dim=1)\n",
    "    s = f(s_lf).detach().numpy()\n",
    "    s_true = f(s_hf).detach().numpy() \n",
    "\n",
    "    r2 = r2_score(s, s_true)\n",
    "    mse = root_mean_squared_error(s, s_true)\n",
    "\n",
    "    print(f\"fid {l}-> r2:{r2} mse: {mse}\")"
   ]
  },
  {
   "cell_type": "code",
   "execution_count": 67,
   "metadata": {},
   "outputs": [
    {
     "name": "stdout",
     "output_type": "stream",
     "text": [
      "fid 0.2-> r2:0.9997885319682924 mse: 0.0050696711987257\n",
      "fid 0.3-> r2:0.9998383007244377 mse: 0.004435963463038206\n",
      "fid 0.37-> r2:0.9998691402803723 mse: 0.003992372192442417\n",
      "fid 0.4-> r2:0.9998813519467383 mse: 0.0038022585213184357\n",
      "fid 0.46-> r2:0.999903968974162 mse: 0.00342203164473176\n",
      "fid 0.5-> r2:0.9999177113804464 mse: 0.0031685426365584135\n",
      "fid 0.6-> r2:0.9999474029011272 mse: 0.002534835832193494\n"
     ]
    }
   ],
   "source": [
    "p = AugmentedHartmann()\n",
    "\n",
    "fids = [0.2, 0.3, 0.37, 0.4, 0.46, 0.5, 0.6]\n",
    "\n",
    "for l in fids:\n",
    "\n",
    "    s_lf = torch.cat((samps_hartmann, torch.ones(samps_hartmann.size()[0]).unsqueeze(1)*l), dim=1)\n",
    "    s_hf = torch.cat((samps_hartmann, torch.ones(samps_hartmann.size()[0]).unsqueeze(1)*1.0), dim=1)\n",
    "    s = p(s_lf).detach().numpy()\n",
    "    s_true = p(s_hf).detach().numpy() \n",
    "\n",
    "    r2 = r2_score(s, s_true)\n",
    "    mse = root_mean_squared_error(s, s_true)\n",
    "\n",
    "    print(f\"fid {l}-> r2:{r2} mse: {mse}\")"
   ]
  }
 ],
 "metadata": {
  "kernelspec": {
   "display_name": "venv",
   "language": "python",
   "name": "python3"
  },
  "language_info": {
   "codemirror_mode": {
    "name": "ipython",
    "version": 3
   },
   "file_extension": ".py",
   "mimetype": "text/x-python",
   "name": "python",
   "nbconvert_exporter": "python",
   "pygments_lexer": "ipython3",
   "version": "3.9.18"
  }
 },
 "nbformat": 4,
 "nbformat_minor": 2
}
